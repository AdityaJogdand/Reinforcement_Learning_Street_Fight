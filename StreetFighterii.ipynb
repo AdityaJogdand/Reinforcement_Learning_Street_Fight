{
 "cells": [
  {
   "cell_type": "code",
   "execution_count": 1,
   "id": "575a6811-fdac-414b-8e16-dd3c353458d2",
   "metadata": {},
   "outputs": [],
   "source": [
    "import retro\n",
    "import os\n",
    "import cv2\n",
    "import numpy as np\n",
    "import optuna\n",
    "from gymnasium import Env\n",
    "from gymnasium.spaces import MultiBinary, Box\n",
    "from stable_baselines3 import PPO\n",
    "from stable_baselines3.common.monitor import Monitor\n",
    "from stable_baselines3.common.vec_env import DummyVecEnv, VecFrameStack\n",
    "from stable_baselines3.common.evaluation import evaluate_policy\n",
    "from stable_baselines3.common.callbacks import BaseCallback  \n",
    "import time"
   ]
  },
  {
   "cell_type": "code",
   "execution_count": 2,
   "id": "10df8b88-006c-46e6-bf7a-1dbab903b0d5",
   "metadata": {},
   "outputs": [],
   "source": [
    "class StreetFighter(Env):\n",
    "    def __init__(self):\n",
    "        super().__init__()\n",
    "        self.observation_space = Box(low=0, high=255, shape=(84, 84, 1), dtype=np.uint8)\n",
    "        self.action_space = MultiBinary(12)\n",
    "        self.game = retro.make(\n",
    "            game=\"StreetFighterIISpecialChampionEdition-Genesis\",\n",
    "            use_restricted_actions=retro.Actions.FILTERED\n",
    "        )\n",
    "        self.previous_frame = np.zeros((84, 84, 1), dtype=np.uint8)\n",
    "        self.score = 0\n",
    "\n",
    "    def preprocess(self, observation):\n",
    "        gray = cv2.cvtColor(observation, cv2.COLOR_BGR2GRAY)\n",
    "        resized = cv2.resize(gray, (84, 84), interpolation=cv2.INTER_CUBIC)\n",
    "        return np.reshape(resized, (84, 84, 1))\n",
    "\n",
    "    def reset(self, **kwargs):\n",
    "        obs = self.game.reset()\n",
    "        obs = self.preprocess(obs)\n",
    "        self.previous_frame = obs\n",
    "        self.score = 0\n",
    "        return obs, {}\n",
    "\n",
    "    def step(self, action):\n",
    "        obs, reward, done, info = self.game.step(action)\n",
    "        obs = self.preprocess(obs)\n",
    "        frame_delta = obs - self.previous_frame\n",
    "        self.previous_frame = obs\n",
    "        \n",
    "        reward = info.get('score', 0) - self.score\n",
    "        self.score = info.get('score', 0)\n",
    "        \n",
    "        terminated = done\n",
    "        truncated = False\n",
    "        return frame_delta, reward, terminated, truncated, info\n",
    "\n",
    "    def render(self, *args, **kwargs):\n",
    "        self.game.render(*args, **kwargs)\n",
    "\n",
    "    def close(self):\n",
    "        self.game.close()"
   ]
  },
  {
   "cell_type": "code",
   "execution_count": 3,
   "id": "369031f6-2595-4f74-9cd2-bc03b84ce951",
   "metadata": {},
   "outputs": [],
   "source": [
    "LOG_DIR = \"./logs/\"\n",
    "OPT_DIR = \"./opt/\"\n",
    "os.makedirs(LOG_DIR, exist_ok=True)\n",
    "os.makedirs(OPT_DIR, exist_ok=True)"
   ]
  },
  {
   "cell_type": "code",
   "execution_count": 9,
   "id": "efb6c275-26fd-4c8d-bfea-8bd06e7df936",
   "metadata": {},
   "outputs": [
    {
     "name": "stderr",
     "output_type": "stream",
     "text": [
      "[I 2025-04-08 14:23:52,264] A new study created in memory with name: no-name-2854ce20-1257-40c0-a632-f1b89490df18\n",
      "C:\\Users\\ajogd\\AppData\\Local\\Temp\\ipykernel_43712\\142763229.py:4: FutureWarning: suggest_loguniform has been deprecated in v3.0.0. This feature will be removed in v6.0.0. See https://github.com/optuna/optuna/releases/tag/v3.0.0. Use suggest_float(..., log=True) instead.\n",
      "  'gamma': trial.suggest_loguniform('gamma', 0.8, 0.9999),\n",
      "C:\\Users\\ajogd\\AppData\\Local\\Temp\\ipykernel_43712\\142763229.py:5: FutureWarning: suggest_loguniform has been deprecated in v3.0.0. This feature will be removed in v6.0.0. See https://github.com/optuna/optuna/releases/tag/v3.0.0. Use suggest_float(..., log=True) instead.\n",
      "  'learning_rate': trial.suggest_loguniform('learning_rate', 1e-5, 1e-4),\n",
      "C:\\Users\\ajogd\\AppData\\Local\\Temp\\ipykernel_43712\\142763229.py:6: FutureWarning: suggest_uniform has been deprecated in v3.0.0. This feature will be removed in v6.0.0. See https://github.com/optuna/optuna/releases/tag/v3.0.0. Use suggest_float instead.\n",
      "  'clip_range': trial.suggest_uniform('clip_range', 0.1, 0.4),\n",
      "C:\\Users\\ajogd\\AppData\\Local\\Temp\\ipykernel_43712\\142763229.py:7: FutureWarning: suggest_uniform has been deprecated in v3.0.0. This feature will be removed in v6.0.0. See https://github.com/optuna/optuna/releases/tag/v3.0.0. Use suggest_float instead.\n",
      "  'gae_lambda': trial.suggest_uniform('gae_lambda', 0.8, 0.99),\n"
     ]
    },
    {
     "name": "stdout",
     "output_type": "stream",
     "text": [
      "\n",
      "Starting Trial 0\n",
      "Parameters:\n",
      "  n_steps: 2234\n",
      "  gamma: 0.9678535745643071\n",
      "  learning_rate: 1.5818461356559774e-05\n",
      "  clip_range: 0.183758152402001\n",
      "  gae_lambda: 0.8889790303772501\n"
     ]
    },
    {
     "name": "stderr",
     "output_type": "stream",
     "text": [
      "c:\\users\\ajogd\\onedrive\\desktop\\new folder (4)\\venv\\lib\\site-packages\\stable_baselines3\\ppo\\ppo.py:155: UserWarning: You have specified a mini-batch size of 64, but because the `RolloutBuffer` is of size `n_steps * n_envs = 2234`, after every 34 untruncated mini-batches, there will be a truncated mini-batch of size 58\n",
      "We recommend using a `batch_size` that is a factor of `n_steps * n_envs`.\n",
      "Info: (n_steps=2234 and n_envs=1)\n",
      "  warnings.warn(\n",
      "[I 2025-04-08 14:34:30,492] Trial 0 finished with value: 5000.0 and parameters: {'n_steps': 2234, 'gamma': 0.9678535745643071, 'learning_rate': 1.5818461356559774e-05, 'clip_range': 0.183758152402001, 'gae_lambda': 0.8889790303772501}. Best is trial 0 with value: 5000.0.\n"
     ]
    },
    {
     "name": "stdout",
     "output_type": "stream",
     "text": [
      "\n",
      "Trial 0 finished\n",
      "Mean reward: 5000.0\n",
      "Parameters:\n",
      "  n_steps: 2234\n",
      "  gamma: 0.9678535745643071\n",
      "  learning_rate: 1.5818461356559774e-05\n",
      "  clip_range: 0.183758152402001\n",
      "  gae_lambda: 0.8889790303772501\n",
      "\n",
      "Current best trial: 0\n",
      "Best value: 5000.0\n",
      "Best params:\n",
      "  n_steps: 2234\n",
      "  gamma: 0.9678535745643071\n",
      "  learning_rate: 1.5818461356559774e-05\n",
      "  clip_range: 0.183758152402001\n",
      "  gae_lambda: 0.8889790303772501\n",
      "\n",
      "Starting Trial 1\n",
      "Parameters:\n",
      "  n_steps: 6808\n",
      "  gamma: 0.9548798932936535\n",
      "  learning_rate: 1.9484615633222276e-05\n",
      "  clip_range: 0.32094729568276137\n",
      "  gae_lambda: 0.8498948429129224\n"
     ]
    },
    {
     "name": "stderr",
     "output_type": "stream",
     "text": [
      "c:\\users\\ajogd\\onedrive\\desktop\\new folder (4)\\venv\\lib\\site-packages\\stable_baselines3\\ppo\\ppo.py:155: UserWarning: You have specified a mini-batch size of 64, but because the `RolloutBuffer` is of size `n_steps * n_envs = 6808`, after every 106 untruncated mini-batches, there will be a truncated mini-batch of size 24\n",
      "We recommend using a `batch_size` that is a factor of `n_steps * n_envs`.\n",
      "Info: (n_steps=6808 and n_envs=1)\n",
      "  warnings.warn(\n",
      "[I 2025-04-08 14:46:36,150] Trial 1 finished with value: 1000.0 and parameters: {'n_steps': 6808, 'gamma': 0.9548798932936535, 'learning_rate': 1.9484615633222276e-05, 'clip_range': 0.32094729568276137, 'gae_lambda': 0.8498948429129224}. Best is trial 0 with value: 5000.0.\n"
     ]
    },
    {
     "name": "stdout",
     "output_type": "stream",
     "text": [
      "\n",
      "Trial 1 finished\n",
      "Mean reward: 1000.0\n",
      "Parameters:\n",
      "  n_steps: 6808\n",
      "  gamma: 0.9548798932936535\n",
      "  learning_rate: 1.9484615633222276e-05\n",
      "  clip_range: 0.32094729568276137\n",
      "  gae_lambda: 0.8498948429129224\n",
      "\n",
      "Current best trial: 0\n",
      "Best value: 5000.0\n",
      "Best params:\n",
      "  n_steps: 2234\n",
      "  gamma: 0.9678535745643071\n",
      "  learning_rate: 1.5818461356559774e-05\n",
      "  clip_range: 0.183758152402001\n",
      "  gae_lambda: 0.8889790303772501\n",
      "\n",
      "Starting Trial 2\n",
      "Parameters:\n",
      "  n_steps: 3655\n",
      "  gamma: 0.8310346527480125\n",
      "  learning_rate: 6.381163133597985e-05\n",
      "  clip_range: 0.3056094450063675\n",
      "  gae_lambda: 0.9885261965946768\n"
     ]
    },
    {
     "name": "stderr",
     "output_type": "stream",
     "text": [
      "c:\\users\\ajogd\\onedrive\\desktop\\new folder (4)\\venv\\lib\\site-packages\\stable_baselines3\\ppo\\ppo.py:155: UserWarning: You have specified a mini-batch size of 64, but because the `RolloutBuffer` is of size `n_steps * n_envs = 3655`, after every 57 untruncated mini-batches, there will be a truncated mini-batch of size 7\n",
      "We recommend using a `batch_size` that is a factor of `n_steps * n_envs`.\n",
      "Info: (n_steps=3655 and n_envs=1)\n",
      "  warnings.warn(\n",
      "[I 2025-04-08 14:58:43,909] Trial 2 finished with value: 3000.0 and parameters: {'n_steps': 3655, 'gamma': 0.8310346527480125, 'learning_rate': 6.381163133597985e-05, 'clip_range': 0.3056094450063675, 'gae_lambda': 0.9885261965946768}. Best is trial 0 with value: 5000.0.\n"
     ]
    },
    {
     "name": "stdout",
     "output_type": "stream",
     "text": [
      "\n",
      "Trial 2 finished\n",
      "Mean reward: 3000.0\n",
      "Parameters:\n",
      "  n_steps: 3655\n",
      "  gamma: 0.8310346527480125\n",
      "  learning_rate: 6.381163133597985e-05\n",
      "  clip_range: 0.3056094450063675\n",
      "  gae_lambda: 0.9885261965946768\n",
      "\n",
      "Current best trial: 0\n",
      "Best value: 5000.0\n",
      "Best params:\n",
      "  n_steps: 2234\n",
      "  gamma: 0.9678535745643071\n",
      "  learning_rate: 1.5818461356559774e-05\n",
      "  clip_range: 0.183758152402001\n",
      "  gae_lambda: 0.8889790303772501\n",
      "\n",
      "Starting Trial 3\n",
      "Parameters:\n",
      "  n_steps: 3795\n",
      "  gamma: 0.9003445466748287\n",
      "  learning_rate: 4.960542238487099e-05\n",
      "  clip_range: 0.23687395041796724\n",
      "  gae_lambda: 0.8192653363600547\n"
     ]
    },
    {
     "name": "stderr",
     "output_type": "stream",
     "text": [
      "c:\\users\\ajogd\\onedrive\\desktop\\new folder (4)\\venv\\lib\\site-packages\\stable_baselines3\\ppo\\ppo.py:155: UserWarning: You have specified a mini-batch size of 64, but because the `RolloutBuffer` is of size `n_steps * n_envs = 3795`, after every 59 untruncated mini-batches, there will be a truncated mini-batch of size 19\n",
      "We recommend using a `batch_size` that is a factor of `n_steps * n_envs`.\n",
      "Info: (n_steps=3795 and n_envs=1)\n",
      "  warnings.warn(\n",
      "[I 2025-04-08 15:11:08,444] Trial 3 finished with value: 45600.0 and parameters: {'n_steps': 3795, 'gamma': 0.9003445466748287, 'learning_rate': 4.960542238487099e-05, 'clip_range': 0.23687395041796724, 'gae_lambda': 0.8192653363600547}. Best is trial 3 with value: 45600.0.\n"
     ]
    },
    {
     "name": "stdout",
     "output_type": "stream",
     "text": [
      "\n",
      "Trial 3 finished\n",
      "Mean reward: 45600.0\n",
      "Parameters:\n",
      "  n_steps: 3795\n",
      "  gamma: 0.9003445466748287\n",
      "  learning_rate: 4.960542238487099e-05\n",
      "  clip_range: 0.23687395041796724\n",
      "  gae_lambda: 0.8192653363600547\n",
      "\n",
      "Current best trial: 3\n",
      "Best value: 45600.0\n",
      "Best params:\n",
      "  n_steps: 3795\n",
      "  gamma: 0.9003445466748287\n",
      "  learning_rate: 4.960542238487099e-05\n",
      "  clip_range: 0.23687395041796724\n",
      "  gae_lambda: 0.8192653363600547\n",
      "\n",
      "Starting Trial 4\n",
      "Parameters:\n",
      "  n_steps: 3039\n",
      "  gamma: 0.926252636063524\n",
      "  learning_rate: 2.3992577883004538e-05\n",
      "  clip_range: 0.11617916941987315\n",
      "  gae_lambda: 0.8257397532752823\n"
     ]
    },
    {
     "name": "stderr",
     "output_type": "stream",
     "text": [
      "c:\\users\\ajogd\\onedrive\\desktop\\new folder (4)\\venv\\lib\\site-packages\\stable_baselines3\\ppo\\ppo.py:155: UserWarning: You have specified a mini-batch size of 64, but because the `RolloutBuffer` is of size `n_steps * n_envs = 3039`, after every 47 untruncated mini-batches, there will be a truncated mini-batch of size 31\n",
      "We recommend using a `batch_size` that is a factor of `n_steps * n_envs`.\n",
      "Info: (n_steps=3039 and n_envs=1)\n",
      "  warnings.warn(\n",
      "[I 2025-04-08 15:20:51,803] Trial 4 finished with value: 1700.0 and parameters: {'n_steps': 3039, 'gamma': 0.926252636063524, 'learning_rate': 2.3992577883004538e-05, 'clip_range': 0.11617916941987315, 'gae_lambda': 0.8257397532752823}. Best is trial 3 with value: 45600.0.\n"
     ]
    },
    {
     "name": "stdout",
     "output_type": "stream",
     "text": [
      "\n",
      "Trial 4 finished\n",
      "Mean reward: 1700.0\n",
      "Parameters:\n",
      "  n_steps: 3039\n",
      "  gamma: 0.926252636063524\n",
      "  learning_rate: 2.3992577883004538e-05\n",
      "  clip_range: 0.11617916941987315\n",
      "  gae_lambda: 0.8257397532752823\n",
      "\n",
      "Current best trial: 3\n",
      "Best value: 45600.0\n",
      "Best params:\n",
      "  n_steps: 3795\n",
      "  gamma: 0.9003445466748287\n",
      "  learning_rate: 4.960542238487099e-05\n",
      "  clip_range: 0.23687395041796724\n",
      "  gae_lambda: 0.8192653363600547\n",
      "\n",
      "Starting Trial 5\n",
      "Parameters:\n",
      "  n_steps: 2366\n",
      "  gamma: 0.8300244971275635\n",
      "  learning_rate: 1.973386902902725e-05\n",
      "  clip_range: 0.20785129729086949\n",
      "  gae_lambda: 0.9575934732899748\n"
     ]
    },
    {
     "name": "stderr",
     "output_type": "stream",
     "text": [
      "c:\\users\\ajogd\\onedrive\\desktop\\new folder (4)\\venv\\lib\\site-packages\\stable_baselines3\\ppo\\ppo.py:155: UserWarning: You have specified a mini-batch size of 64, but because the `RolloutBuffer` is of size `n_steps * n_envs = 2366`, after every 36 untruncated mini-batches, there will be a truncated mini-batch of size 62\n",
      "We recommend using a `batch_size` that is a factor of `n_steps * n_envs`.\n",
      "Info: (n_steps=2366 and n_envs=1)\n",
      "  warnings.warn(\n",
      "[I 2025-04-08 15:31:40,840] Trial 5 finished with value: 2000.0 and parameters: {'n_steps': 2366, 'gamma': 0.8300244971275635, 'learning_rate': 1.973386902902725e-05, 'clip_range': 0.20785129729086949, 'gae_lambda': 0.9575934732899748}. Best is trial 3 with value: 45600.0.\n"
     ]
    },
    {
     "name": "stdout",
     "output_type": "stream",
     "text": [
      "\n",
      "Trial 5 finished\n",
      "Mean reward: 2000.0\n",
      "Parameters:\n",
      "  n_steps: 2366\n",
      "  gamma: 0.8300244971275635\n",
      "  learning_rate: 1.973386902902725e-05\n",
      "  clip_range: 0.20785129729086949\n",
      "  gae_lambda: 0.9575934732899748\n",
      "\n",
      "Current best trial: 3\n",
      "Best value: 45600.0\n",
      "Best params:\n",
      "  n_steps: 3795\n",
      "  gamma: 0.9003445466748287\n",
      "  learning_rate: 4.960542238487099e-05\n",
      "  clip_range: 0.23687395041796724\n",
      "  gae_lambda: 0.8192653363600547\n",
      "\n",
      "Starting Trial 6\n",
      "Parameters:\n",
      "  n_steps: 3345\n",
      "  gamma: 0.9343268529642388\n",
      "  learning_rate: 9.391889170775487e-05\n",
      "  clip_range: 0.1738704305480394\n",
      "  gae_lambda: 0.8827222981121964\n"
     ]
    },
    {
     "name": "stderr",
     "output_type": "stream",
     "text": [
      "c:\\users\\ajogd\\onedrive\\desktop\\new folder (4)\\venv\\lib\\site-packages\\stable_baselines3\\ppo\\ppo.py:155: UserWarning: You have specified a mini-batch size of 64, but because the `RolloutBuffer` is of size `n_steps * n_envs = 3345`, after every 52 untruncated mini-batches, there will be a truncated mini-batch of size 17\n",
      "We recommend using a `batch_size` that is a factor of `n_steps * n_envs`.\n",
      "Info: (n_steps=3345 and n_envs=1)\n",
      "  warnings.warn(\n",
      "[I 2025-04-08 15:42:03,867] Trial 6 finished with value: 2000.0 and parameters: {'n_steps': 3345, 'gamma': 0.9343268529642388, 'learning_rate': 9.391889170775487e-05, 'clip_range': 0.1738704305480394, 'gae_lambda': 0.8827222981121964}. Best is trial 3 with value: 45600.0.\n"
     ]
    },
    {
     "name": "stdout",
     "output_type": "stream",
     "text": [
      "\n",
      "Trial 6 finished\n",
      "Mean reward: 2000.0\n",
      "Parameters:\n",
      "  n_steps: 3345\n",
      "  gamma: 0.9343268529642388\n",
      "  learning_rate: 9.391889170775487e-05\n",
      "  clip_range: 0.1738704305480394\n",
      "  gae_lambda: 0.8827222981121964\n",
      "\n",
      "Current best trial: 3\n",
      "Best value: 45600.0\n",
      "Best params:\n",
      "  n_steps: 3795\n",
      "  gamma: 0.9003445466748287\n",
      "  learning_rate: 4.960542238487099e-05\n",
      "  clip_range: 0.23687395041796724\n",
      "  gae_lambda: 0.8192653363600547\n",
      "\n",
      "Starting Trial 7\n",
      "Parameters:\n",
      "  n_steps: 5919\n",
      "  gamma: 0.8754413897158089\n",
      "  learning_rate: 3.989971379684793e-05\n",
      "  clip_range: 0.12406691266492693\n",
      "  gae_lambda: 0.925169234690562\n"
     ]
    },
    {
     "name": "stderr",
     "output_type": "stream",
     "text": [
      "c:\\users\\ajogd\\onedrive\\desktop\\new folder (4)\\venv\\lib\\site-packages\\stable_baselines3\\ppo\\ppo.py:155: UserWarning: You have specified a mini-batch size of 64, but because the `RolloutBuffer` is of size `n_steps * n_envs = 5919`, after every 92 untruncated mini-batches, there will be a truncated mini-batch of size 31\n",
      "We recommend using a `batch_size` that is a factor of `n_steps * n_envs`.\n",
      "Info: (n_steps=5919 and n_envs=1)\n",
      "  warnings.warn(\n",
      "[I 2025-04-08 15:53:14,335] Trial 7 finished with value: 1500.0 and parameters: {'n_steps': 5919, 'gamma': 0.8754413897158089, 'learning_rate': 3.989971379684793e-05, 'clip_range': 0.12406691266492693, 'gae_lambda': 0.925169234690562}. Best is trial 3 with value: 45600.0.\n"
     ]
    },
    {
     "name": "stdout",
     "output_type": "stream",
     "text": [
      "\n",
      "Trial 7 finished\n",
      "Mean reward: 1500.0\n",
      "Parameters:\n",
      "  n_steps: 5919\n",
      "  gamma: 0.8754413897158089\n",
      "  learning_rate: 3.989971379684793e-05\n",
      "  clip_range: 0.12406691266492693\n",
      "  gae_lambda: 0.925169234690562\n",
      "\n",
      "Current best trial: 3\n",
      "Best value: 45600.0\n",
      "Best params:\n",
      "  n_steps: 3795\n",
      "  gamma: 0.9003445466748287\n",
      "  learning_rate: 4.960542238487099e-05\n",
      "  clip_range: 0.23687395041796724\n",
      "  gae_lambda: 0.8192653363600547\n",
      "\n",
      "Starting Trial 8\n",
      "Parameters:\n",
      "  n_steps: 2504\n",
      "  gamma: 0.8248434861766549\n",
      "  learning_rate: 1.7645720546779833e-05\n",
      "  clip_range: 0.11598136779051013\n",
      "  gae_lambda: 0.8641566910901479\n"
     ]
    },
    {
     "name": "stderr",
     "output_type": "stream",
     "text": [
      "c:\\users\\ajogd\\onedrive\\desktop\\new folder (4)\\venv\\lib\\site-packages\\stable_baselines3\\ppo\\ppo.py:155: UserWarning: You have specified a mini-batch size of 64, but because the `RolloutBuffer` is of size `n_steps * n_envs = 2504`, after every 39 untruncated mini-batches, there will be a truncated mini-batch of size 8\n",
      "We recommend using a `batch_size` that is a factor of `n_steps * n_envs`.\n",
      "Info: (n_steps=2504 and n_envs=1)\n",
      "  warnings.warn(\n",
      "[I 2025-04-08 16:05:09,195] Trial 8 finished with value: 4200.0 and parameters: {'n_steps': 2504, 'gamma': 0.8248434861766549, 'learning_rate': 1.7645720546779833e-05, 'clip_range': 0.11598136779051013, 'gae_lambda': 0.8641566910901479}. Best is trial 3 with value: 45600.0.\n"
     ]
    },
    {
     "name": "stdout",
     "output_type": "stream",
     "text": [
      "\n",
      "Trial 8 finished\n",
      "Mean reward: 4200.0\n",
      "Parameters:\n",
      "  n_steps: 2504\n",
      "  gamma: 0.8248434861766549\n",
      "  learning_rate: 1.7645720546779833e-05\n",
      "  clip_range: 0.11598136779051013\n",
      "  gae_lambda: 0.8641566910901479\n",
      "\n",
      "Current best trial: 3\n",
      "Best value: 45600.0\n",
      "Best params:\n",
      "  n_steps: 3795\n",
      "  gamma: 0.9003445466748287\n",
      "  learning_rate: 4.960542238487099e-05\n",
      "  clip_range: 0.23687395041796724\n",
      "  gae_lambda: 0.8192653363600547\n",
      "\n",
      "Starting Trial 9\n",
      "Parameters:\n",
      "  n_steps: 5230\n",
      "  gamma: 0.8147419319162601\n",
      "  learning_rate: 3.7924326880121175e-05\n",
      "  clip_range: 0.2916564660522714\n",
      "  gae_lambda: 0.9768708220445755\n"
     ]
    },
    {
     "name": "stderr",
     "output_type": "stream",
     "text": [
      "c:\\users\\ajogd\\onedrive\\desktop\\new folder (4)\\venv\\lib\\site-packages\\stable_baselines3\\ppo\\ppo.py:155: UserWarning: You have specified a mini-batch size of 64, but because the `RolloutBuffer` is of size `n_steps * n_envs = 5230`, after every 81 untruncated mini-batches, there will be a truncated mini-batch of size 46\n",
      "We recommend using a `batch_size` that is a factor of `n_steps * n_envs`.\n",
      "Info: (n_steps=5230 and n_envs=1)\n",
      "  warnings.warn(\n",
      "[I 2025-04-08 16:17:39,887] Trial 9 finished with value: 0.0 and parameters: {'n_steps': 5230, 'gamma': 0.8147419319162601, 'learning_rate': 3.7924326880121175e-05, 'clip_range': 0.2916564660522714, 'gae_lambda': 0.9768708220445755}. Best is trial 3 with value: 45600.0.\n"
     ]
    },
    {
     "name": "stdout",
     "output_type": "stream",
     "text": [
      "\n",
      "Trial 9 finished\n",
      "Mean reward: 0.0\n",
      "Parameters:\n",
      "  n_steps: 5230\n",
      "  gamma: 0.8147419319162601\n",
      "  learning_rate: 3.7924326880121175e-05\n",
      "  clip_range: 0.2916564660522714\n",
      "  gae_lambda: 0.9768708220445755\n",
      "\n",
      "Current best trial: 3\n",
      "Best value: 45600.0\n",
      "Best params:\n",
      "  n_steps: 3795\n",
      "  gamma: 0.9003445466748287\n",
      "  learning_rate: 4.960542238487099e-05\n",
      "  clip_range: 0.23687395041796724\n",
      "  gae_lambda: 0.8192653363600547\n",
      "\n",
      "Saved best model from trial 3 to ./opt/best_model\n"
     ]
    }
   ],
   "source": [
    "def optimize_ppo(trial):\n",
    "    return {\n",
    "        'n_steps': trial.suggest_int('n_steps', 2048, 8192),\n",
    "        'gamma': trial.suggest_loguniform('gamma', 0.8, 0.9999),\n",
    "        'learning_rate': trial.suggest_loguniform('learning_rate', 1e-5, 1e-4),\n",
    "        'clip_range': trial.suggest_uniform('clip_range', 0.1, 0.4),\n",
    "        'gae_lambda': trial.suggest_uniform('gae_lambda', 0.8, 0.99),\n",
    "         \n",
    "    }\n",
    "\n",
    "def optimize_agent(trial):\n",
    "    try:\n",
    "        model_params = optimize_ppo(trial)\n",
    "        \n",
    "        print(f\"\\nStarting Trial {trial.number}\")\n",
    "        print(\"Parameters:\")\n",
    "        for key, value in model_params.items():\n",
    "            print(f\"  {key}: {value}\")\n",
    "\n",
    "        env = StreetFighter()\n",
    "        env = Monitor(env, LOG_DIR)\n",
    "        env = DummyVecEnv([lambda: env])\n",
    "        env = VecFrameStack(env, n_stack=4, channels_order='last')\n",
    "\n",
    "        model = PPO(\n",
    "            'CnnPolicy',\n",
    "            env,\n",
    "            verbose=0,\n",
    "            tensorboard_log=LOG_DIR,\n",
    "            **model_params\n",
    "        )\n",
    "\n",
    "        model.learn(total_timesteps=100000)\n",
    "\n",
    "        mean_reward, _ = evaluate_policy(model, env, n_eval_episodes=5)\n",
    "        env.close()\n",
    "\n",
    "        SAVE_PATH = os.path.join(OPT_DIR, f\"trial_{trial.number}_best_model\")\n",
    "        model.save(SAVE_PATH)\n",
    "\n",
    "        print(f\"\\nTrial {trial.number} finished\")\n",
    "        print(f\"Mean reward: {mean_reward}\")\n",
    "        print(\"Parameters:\")\n",
    "        for key, value in model_params.items():\n",
    "            print(f\"  {key}: {value}\")\n",
    "\n",
    "        return mean_reward\n",
    "\n",
    "    except Exception as e:\n",
    "        print(f\"\\nTrial failed due to: {e}\")\n",
    "        return -1000\n",
    "\n",
    "def print_best_trial(study, trial):\n",
    "    print(f\"\\nCurrent best trial: {study.best_trial.number}\")\n",
    "    print(f\"Best value: {study.best_trial.value}\")\n",
    "    print(\"Best params:\")\n",
    "    for key, value in study.best_trial.params.items():\n",
    "        print(f\"  {key}: {value}\")\n",
    "\n",
    "# Run optimization\n",
    "study = optuna.create_study(direction='maximize')\n",
    "study.optimize(\n",
    "    optimize_agent, \n",
    "    n_trials=1000, \n",
    "    n_jobs=1,\n",
    "    callbacks=[print_best_trial]\n",
    ")\n",
    "\n",
    "# Save the best model after all trials\n",
    "if study.best_trial:\n",
    "    best_model_path = os.path.join(OPT_DIR, \"best_model\")\n",
    "    best_model = PPO.load(os.path.join(OPT_DIR, f\"trial_{study.best_trial.number}_best_model\"))\n",
    "    best_model.save(best_model_path)\n",
    "    print(f\"\\nSaved best model from trial {study.best_trial.number} to {best_model_path}\")"
   ]
  },
  {
   "cell_type": "code",
   "execution_count": 4,
   "id": "ad0c6712-339e-4748-9b8e-dc132b66169f",
   "metadata": {},
   "outputs": [],
   "source": [
    "model = PPO.load(os.path.join(OPT_DIR, 'trial_3_best_model.zip'))"
   ]
  },
  {
   "cell_type": "code",
   "execution_count": 39,
   "id": "b2c6f4e8-d947-4e37-bd3c-c8a0013f6828",
   "metadata": {},
   "outputs": [],
   "source": [
    "class TrainAndLoggingCallback(BaseCallback):\n",
    "\n",
    "    def __init__(self,check_freq, save_path, verbose=1):\n",
    "        super(TrainAndLoggingCallback, self).__init__(verbose)\n",
    "        self.check_freq = check_freq\n",
    "        self.save_path = save_path\n",
    "\n",
    "    def __init_callback(self):\n",
    "        if self.save_path is not None:\n",
    "            os.makedirs(self.save_path, exist_ok = True)\n",
    "\n",
    "    def _on_step(self):\n",
    "        if self.n_calls % self.check_freq == 0:\n",
    "            model_path = os.path.join(self.save_path, 'best_model{}'.format(self.n_calls))\n",
    "            self.model.save(model_path)\n",
    "        return True"
   ]
  },
  {
   "cell_type": "code",
   "execution_count": 40,
   "id": "9df61fac-a527-4098-9833-7f31e012cdc9",
   "metadata": {},
   "outputs": [],
   "source": [
    "CHECKPOINT_DIR = './train/'"
   ]
  },
  {
   "cell_type": "code",
   "execution_count": 41,
   "id": "584342ac-627f-40b4-a98b-12e30a6e9a24",
   "metadata": {},
   "outputs": [],
   "source": [
    "model_params = params={'n_steps': 3776, 'gamma': 0.9003445466748287, 'learning_rate': 4.960542238487099e-05, 'clip_range': 0.23687395041796724, 'gae_lambda': 0.8192653363600547}"
   ]
  },
  {
   "cell_type": "code",
   "execution_count": 43,
   "id": "018b6fad-4204-4928-9e44-ce5bcb27247d",
   "metadata": {},
   "outputs": [],
   "source": [
    "env.close()"
   ]
  },
  {
   "cell_type": "code",
   "execution_count": 44,
   "id": "298838ba-989a-4f12-a92b-991c9b04c04f",
   "metadata": {},
   "outputs": [],
   "source": [
    "env = StreetFighter()\n",
    "env = Monitor(env, LOG_DIR)\n",
    "env = DummyVecEnv([lambda: env])\n",
    "env = VecFrameStack(env, n_stack=4, channels_order='last')"
   ]
  },
  {
   "cell_type": "code",
   "execution_count": 45,
   "id": "bce4e550-ded4-4ba0-9153-56e24d2b37f3",
   "metadata": {},
   "outputs": [
    {
     "name": "stdout",
     "output_type": "stream",
     "text": [
      "Using cuda device\n",
      "Wrapping the env in a VecTransposeImage.\n"
     ]
    }
   ],
   "source": [
    "model = PPO('CnnPolicy', env, verbose=1, tensorboard_log=LOG_DIR, **model_params)"
   ]
  },
  {
   "cell_type": "code",
   "execution_count": 47,
   "id": "b140926a-a47f-44b2-9e70-bb6be72f676d",
   "metadata": {},
   "outputs": [
    {
     "data": {
      "text/plain": [
       "<stable_baselines3.ppo.ppo.PPO at 0x15d3c663610>"
      ]
     },
     "execution_count": 47,
     "metadata": {},
     "output_type": "execute_result"
    }
   ],
   "source": [
    "model.load(os.path.join(OPT_DIR, 'trial_3_best_model.zip'))"
   ]
  },
  {
   "cell_type": "code",
   "execution_count": 50,
   "id": "de49f9f8-89fc-4555-854a-3f8e5333df4e",
   "metadata": {},
   "outputs": [],
   "source": [
    "\n",
    "callback = TrainAndLoggingCallback(check_freq=10000, save_path=CHECKPOINT_DIR)\n"
   ]
  },
  {
   "cell_type": "code",
   "execution_count": 48,
   "id": "b12805ad-9bdc-4936-be9c-e214cc18ba4c",
   "metadata": {},
   "outputs": [
    {
     "ename": "NameError",
     "evalue": "name 'callback' is not defined",
     "output_type": "error",
     "traceback": [
      "\u001b[1;31m---------------------------------------------------------------------------\u001b[0m",
      "\u001b[1;31mNameError\u001b[0m                                 Traceback (most recent call last)",
      "Cell \u001b[1;32mIn[48], line 1\u001b[0m\n\u001b[1;32m----> 1\u001b[0m model\u001b[38;5;241m.\u001b[39mlearn(total_timesteps\u001b[38;5;241m=\u001b[39m\u001b[38;5;241m100000\u001b[39m, callback \u001b[38;5;241m=\u001b[39m \u001b[43mcallback\u001b[49m)\n",
      "\u001b[1;31mNameError\u001b[0m: name 'callback' is not defined"
     ]
    }
   ],
   "source": [
    "model.learn(total_timesteps=100000, callback = callback)"
   ]
  },
  {
   "cell_type": "code",
   "execution_count": 52,
   "id": "11215ac2-69cd-484d-8889-3ffc5f466b73",
   "metadata": {},
   "outputs": [],
   "source": [
    "model = PPO.load(\"./opt/trial_3_best_model.zip\")"
   ]
  },
  {
   "cell_type": "code",
   "execution_count": 53,
   "id": "59284f47-6682-47de-888f-402f80430251",
   "metadata": {},
   "outputs": [],
   "source": [
    "env.close()"
   ]
  },
  {
   "cell_type": "code",
   "execution_count": 55,
   "id": "0ef94a43-2c44-438d-99c2-0c5ffae1578b",
   "metadata": {},
   "outputs": [
    {
     "ename": "AttributeError",
     "evalue": "'RetroEnv' object has no attribute 'em'",
     "output_type": "error",
     "traceback": [
      "\u001b[1;31m---------------------------------------------------------------------------\u001b[0m",
      "\u001b[1;31mAttributeError\u001b[0m                            Traceback (most recent call last)",
      "Cell \u001b[1;32mIn[55], line 1\u001b[0m\n\u001b[1;32m----> 1\u001b[0m mean_reward , _ \u001b[38;5;241m=\u001b[39m \u001b[43mevaluate_policy\u001b[49m\u001b[43m(\u001b[49m\u001b[43mmodel\u001b[49m\u001b[43m,\u001b[49m\u001b[43m \u001b[49m\u001b[43menv\u001b[49m\u001b[43m,\u001b[49m\u001b[43m \u001b[49m\u001b[43mrender\u001b[49m\u001b[38;5;241;43m=\u001b[39;49m\u001b[38;5;28;43;01mTrue\u001b[39;49;00m\u001b[43m,\u001b[49m\u001b[43m \u001b[49m\u001b[43mn_eval_episodes\u001b[49m\u001b[38;5;241;43m=\u001b[39;49m\u001b[38;5;241;43m1\u001b[39;49m\u001b[43m)\u001b[49m\n",
      "File \u001b[1;32mc:\\users\\ajogd\\onedrive\\desktop\\new folder (4)\\venv\\lib\\site-packages\\stable_baselines3\\common\\evaluation.py:84\u001b[0m, in \u001b[0;36mevaluate_policy\u001b[1;34m(model, env, n_eval_episodes, deterministic, render, callback, reward_threshold, return_episode_rewards, warn)\u001b[0m\n\u001b[0;32m     82\u001b[0m current_rewards \u001b[38;5;241m=\u001b[39m np\u001b[38;5;241m.\u001b[39mzeros(n_envs)\n\u001b[0;32m     83\u001b[0m current_lengths \u001b[38;5;241m=\u001b[39m np\u001b[38;5;241m.\u001b[39mzeros(n_envs, dtype\u001b[38;5;241m=\u001b[39m\u001b[38;5;124m\"\u001b[39m\u001b[38;5;124mint\u001b[39m\u001b[38;5;124m\"\u001b[39m)\n\u001b[1;32m---> 84\u001b[0m observations \u001b[38;5;241m=\u001b[39m \u001b[43menv\u001b[49m\u001b[38;5;241;43m.\u001b[39;49m\u001b[43mreset\u001b[49m\u001b[43m(\u001b[49m\u001b[43m)\u001b[49m\n\u001b[0;32m     85\u001b[0m states \u001b[38;5;241m=\u001b[39m \u001b[38;5;28;01mNone\u001b[39;00m\n\u001b[0;32m     86\u001b[0m episode_starts \u001b[38;5;241m=\u001b[39m np\u001b[38;5;241m.\u001b[39mones((env\u001b[38;5;241m.\u001b[39mnum_envs,), dtype\u001b[38;5;241m=\u001b[39m\u001b[38;5;28mbool\u001b[39m)\n",
      "File \u001b[1;32mc:\\users\\ajogd\\onedrive\\desktop\\new folder (4)\\venv\\lib\\site-packages\\stable_baselines3\\common\\vec_env\\vec_frame_stack.py:46\u001b[0m, in \u001b[0;36mVecFrameStack.reset\u001b[1;34m(self)\u001b[0m\n\u001b[0;32m     42\u001b[0m \u001b[38;5;28;01mdef\u001b[39;00m\u001b[38;5;250m \u001b[39m\u001b[38;5;21mreset\u001b[39m(\u001b[38;5;28mself\u001b[39m) \u001b[38;5;241m-\u001b[39m\u001b[38;5;241m>\u001b[39m Union[np\u001b[38;5;241m.\u001b[39mndarray, Dict[\u001b[38;5;28mstr\u001b[39m, np\u001b[38;5;241m.\u001b[39mndarray]]:\n\u001b[0;32m     43\u001b[0m \u001b[38;5;250m    \u001b[39m\u001b[38;5;124;03m\"\"\"\u001b[39;00m\n\u001b[0;32m     44\u001b[0m \u001b[38;5;124;03m    Reset all environments\u001b[39;00m\n\u001b[0;32m     45\u001b[0m \u001b[38;5;124;03m    \"\"\"\u001b[39;00m\n\u001b[1;32m---> 46\u001b[0m     observation \u001b[38;5;241m=\u001b[39m \u001b[38;5;28;43mself\u001b[39;49m\u001b[38;5;241;43m.\u001b[39;49m\u001b[43mvenv\u001b[49m\u001b[38;5;241;43m.\u001b[39;49m\u001b[43mreset\u001b[49m\u001b[43m(\u001b[49m\u001b[43m)\u001b[49m\n\u001b[0;32m     47\u001b[0m     observation \u001b[38;5;241m=\u001b[39m \u001b[38;5;28mself\u001b[39m\u001b[38;5;241m.\u001b[39mstacked_obs\u001b[38;5;241m.\u001b[39mreset(observation)  \u001b[38;5;66;03m# type: ignore[arg-type]\u001b[39;00m\n\u001b[0;32m     48\u001b[0m     \u001b[38;5;28;01mreturn\u001b[39;00m observation\n",
      "File \u001b[1;32mc:\\users\\ajogd\\onedrive\\desktop\\new folder (4)\\venv\\lib\\site-packages\\stable_baselines3\\common\\vec_env\\dummy_vec_env.py:77\u001b[0m, in \u001b[0;36mDummyVecEnv.reset\u001b[1;34m(self)\u001b[0m\n\u001b[0;32m     75\u001b[0m \u001b[38;5;28;01mfor\u001b[39;00m env_idx \u001b[38;5;129;01min\u001b[39;00m \u001b[38;5;28mrange\u001b[39m(\u001b[38;5;28mself\u001b[39m\u001b[38;5;241m.\u001b[39mnum_envs):\n\u001b[0;32m     76\u001b[0m     maybe_options \u001b[38;5;241m=\u001b[39m {\u001b[38;5;124m\"\u001b[39m\u001b[38;5;124moptions\u001b[39m\u001b[38;5;124m\"\u001b[39m: \u001b[38;5;28mself\u001b[39m\u001b[38;5;241m.\u001b[39m_options[env_idx]} \u001b[38;5;28;01mif\u001b[39;00m \u001b[38;5;28mself\u001b[39m\u001b[38;5;241m.\u001b[39m_options[env_idx] \u001b[38;5;28;01melse\u001b[39;00m {}\n\u001b[1;32m---> 77\u001b[0m     obs, \u001b[38;5;28mself\u001b[39m\u001b[38;5;241m.\u001b[39mreset_infos[env_idx] \u001b[38;5;241m=\u001b[39m \u001b[38;5;28;43mself\u001b[39;49m\u001b[38;5;241;43m.\u001b[39;49m\u001b[43menvs\u001b[49m\u001b[43m[\u001b[49m\u001b[43menv_idx\u001b[49m\u001b[43m]\u001b[49m\u001b[38;5;241;43m.\u001b[39;49m\u001b[43mreset\u001b[49m\u001b[43m(\u001b[49m\u001b[43mseed\u001b[49m\u001b[38;5;241;43m=\u001b[39;49m\u001b[38;5;28;43mself\u001b[39;49m\u001b[38;5;241;43m.\u001b[39;49m\u001b[43m_seeds\u001b[49m\u001b[43m[\u001b[49m\u001b[43menv_idx\u001b[49m\u001b[43m]\u001b[49m\u001b[43m,\u001b[49m\u001b[43m \u001b[49m\u001b[38;5;241;43m*\u001b[39;49m\u001b[38;5;241;43m*\u001b[39;49m\u001b[43mmaybe_options\u001b[49m\u001b[43m)\u001b[49m\n\u001b[0;32m     78\u001b[0m     \u001b[38;5;28mself\u001b[39m\u001b[38;5;241m.\u001b[39m_save_obs(env_idx, obs)\n\u001b[0;32m     79\u001b[0m \u001b[38;5;66;03m# Seeds and options are only used once\u001b[39;00m\n",
      "File \u001b[1;32mc:\\users\\ajogd\\onedrive\\desktop\\new folder (4)\\venv\\lib\\site-packages\\stable_baselines3\\common\\monitor.py:83\u001b[0m, in \u001b[0;36mMonitor.reset\u001b[1;34m(self, **kwargs)\u001b[0m\n\u001b[0;32m     81\u001b[0m         \u001b[38;5;28;01mraise\u001b[39;00m \u001b[38;5;167;01mValueError\u001b[39;00m(\u001b[38;5;124mf\u001b[39m\u001b[38;5;124m\"\u001b[39m\u001b[38;5;124mExpected you to pass keyword argument \u001b[39m\u001b[38;5;132;01m{\u001b[39;00mkey\u001b[38;5;132;01m}\u001b[39;00m\u001b[38;5;124m into reset\u001b[39m\u001b[38;5;124m\"\u001b[39m)\n\u001b[0;32m     82\u001b[0m     \u001b[38;5;28mself\u001b[39m\u001b[38;5;241m.\u001b[39mcurrent_reset_info[key] \u001b[38;5;241m=\u001b[39m value\n\u001b[1;32m---> 83\u001b[0m \u001b[38;5;28;01mreturn\u001b[39;00m \u001b[38;5;28;43mself\u001b[39;49m\u001b[38;5;241;43m.\u001b[39;49m\u001b[43menv\u001b[49m\u001b[38;5;241;43m.\u001b[39;49m\u001b[43mreset\u001b[49m\u001b[43m(\u001b[49m\u001b[38;5;241;43m*\u001b[39;49m\u001b[38;5;241;43m*\u001b[39;49m\u001b[43mkwargs\u001b[49m\u001b[43m)\u001b[49m\n",
      "Cell \u001b[1;32mIn[2], line 19\u001b[0m, in \u001b[0;36mStreetFighter.reset\u001b[1;34m(self, **kwargs)\u001b[0m\n\u001b[0;32m     18\u001b[0m \u001b[38;5;28;01mdef\u001b[39;00m\u001b[38;5;250m \u001b[39m\u001b[38;5;21mreset\u001b[39m(\u001b[38;5;28mself\u001b[39m, \u001b[38;5;241m*\u001b[39m\u001b[38;5;241m*\u001b[39mkwargs):\n\u001b[1;32m---> 19\u001b[0m     obs \u001b[38;5;241m=\u001b[39m \u001b[38;5;28;43mself\u001b[39;49m\u001b[38;5;241;43m.\u001b[39;49m\u001b[43mgame\u001b[49m\u001b[38;5;241;43m.\u001b[39;49m\u001b[43mreset\u001b[49m\u001b[43m(\u001b[49m\u001b[43m)\u001b[49m\n\u001b[0;32m     20\u001b[0m     obs \u001b[38;5;241m=\u001b[39m \u001b[38;5;28mself\u001b[39m\u001b[38;5;241m.\u001b[39mpreprocess(obs)\n\u001b[0;32m     21\u001b[0m     \u001b[38;5;28mself\u001b[39m\u001b[38;5;241m.\u001b[39mprevious_frame \u001b[38;5;241m=\u001b[39m obs\n",
      "File \u001b[1;32mc:\\users\\ajogd\\onedrive\\desktop\\new folder (4)\\venv\\lib\\site-packages\\retro\\retro_env.py:199\u001b[0m, in \u001b[0;36mRetroEnv.reset\u001b[1;34m(self)\u001b[0m\n\u001b[0;32m    197\u001b[0m \u001b[38;5;28;01mdef\u001b[39;00m\u001b[38;5;250m \u001b[39m\u001b[38;5;21mreset\u001b[39m(\u001b[38;5;28mself\u001b[39m):\n\u001b[0;32m    198\u001b[0m     \u001b[38;5;28;01mif\u001b[39;00m \u001b[38;5;28mself\u001b[39m\u001b[38;5;241m.\u001b[39minitial_state:\n\u001b[1;32m--> 199\u001b[0m         \u001b[38;5;28;43mself\u001b[39;49m\u001b[38;5;241;43m.\u001b[39;49m\u001b[43mem\u001b[49m\u001b[38;5;241m.\u001b[39mset_state(\u001b[38;5;28mself\u001b[39m\u001b[38;5;241m.\u001b[39minitial_state)\n\u001b[0;32m    200\u001b[0m     \u001b[38;5;28;01mfor\u001b[39;00m p \u001b[38;5;129;01min\u001b[39;00m \u001b[38;5;28mrange\u001b[39m(\u001b[38;5;28mself\u001b[39m\u001b[38;5;241m.\u001b[39mplayers):\n\u001b[0;32m    201\u001b[0m         \u001b[38;5;28mself\u001b[39m\u001b[38;5;241m.\u001b[39mem\u001b[38;5;241m.\u001b[39mset_button_mask(np\u001b[38;5;241m.\u001b[39mzeros([\u001b[38;5;28mself\u001b[39m\u001b[38;5;241m.\u001b[39mnum_buttons], np\u001b[38;5;241m.\u001b[39muint8), p)\n",
      "\u001b[1;31mAttributeError\u001b[0m: 'RetroEnv' object has no attribute 'em'"
     ]
    }
   ],
   "source": [
    "mean_reward , _ = evaluate_policy(model, env, render=True, n_eval_episodes=1)"
   ]
  },
  {
   "cell_type": "code",
   "execution_count": 36,
   "id": "f6a5f996-753b-4ad6-a966-053b44080288",
   "metadata": {},
   "outputs": [
    {
     "data": {
      "text/plain": [
       "2300.0"
      ]
     },
     "execution_count": 36,
     "metadata": {},
     "output_type": "execute_result"
    }
   ],
   "source": [
    "mean_reward"
   ]
  },
  {
   "cell_type": "code",
   "execution_count": 24,
   "id": "e538a860-32d3-4198-847b-a99909054e70",
   "metadata": {},
   "outputs": [
    {
     "ename": "AttributeError",
     "evalue": "'RetroEnv' object has no attribute 'em'",
     "output_type": "error",
     "traceback": [
      "\u001b[1;31m---------------------------------------------------------------------------\u001b[0m",
      "\u001b[1;31mAttributeError\u001b[0m                            Traceback (most recent call last)",
      "Cell \u001b[1;32mIn[24], line 1\u001b[0m\n\u001b[1;32m----> 1\u001b[0m obs,_\u001b[38;5;241m=\u001b[39m \u001b[43menv\u001b[49m\u001b[38;5;241;43m.\u001b[39;49m\u001b[43mreset\u001b[49m\u001b[43m(\u001b[49m\u001b[43m)\u001b[49m\n",
      "File \u001b[1;32mc:\\users\\ajogd\\onedrive\\desktop\\new folder (4)\\venv\\lib\\site-packages\\stable_baselines3\\common\\vec_env\\vec_frame_stack.py:46\u001b[0m, in \u001b[0;36mVecFrameStack.reset\u001b[1;34m(self)\u001b[0m\n\u001b[0;32m     42\u001b[0m \u001b[38;5;28;01mdef\u001b[39;00m\u001b[38;5;250m \u001b[39m\u001b[38;5;21mreset\u001b[39m(\u001b[38;5;28mself\u001b[39m) \u001b[38;5;241m-\u001b[39m\u001b[38;5;241m>\u001b[39m Union[np\u001b[38;5;241m.\u001b[39mndarray, Dict[\u001b[38;5;28mstr\u001b[39m, np\u001b[38;5;241m.\u001b[39mndarray]]:\n\u001b[0;32m     43\u001b[0m \u001b[38;5;250m    \u001b[39m\u001b[38;5;124;03m\"\"\"\u001b[39;00m\n\u001b[0;32m     44\u001b[0m \u001b[38;5;124;03m    Reset all environments\u001b[39;00m\n\u001b[0;32m     45\u001b[0m \u001b[38;5;124;03m    \"\"\"\u001b[39;00m\n\u001b[1;32m---> 46\u001b[0m     observation \u001b[38;5;241m=\u001b[39m \u001b[38;5;28;43mself\u001b[39;49m\u001b[38;5;241;43m.\u001b[39;49m\u001b[43mvenv\u001b[49m\u001b[38;5;241;43m.\u001b[39;49m\u001b[43mreset\u001b[49m\u001b[43m(\u001b[49m\u001b[43m)\u001b[49m\n\u001b[0;32m     47\u001b[0m     observation \u001b[38;5;241m=\u001b[39m \u001b[38;5;28mself\u001b[39m\u001b[38;5;241m.\u001b[39mstacked_obs\u001b[38;5;241m.\u001b[39mreset(observation)  \u001b[38;5;66;03m# type: ignore[arg-type]\u001b[39;00m\n\u001b[0;32m     48\u001b[0m     \u001b[38;5;28;01mreturn\u001b[39;00m observation\n",
      "File \u001b[1;32mc:\\users\\ajogd\\onedrive\\desktop\\new folder (4)\\venv\\lib\\site-packages\\stable_baselines3\\common\\vec_env\\dummy_vec_env.py:77\u001b[0m, in \u001b[0;36mDummyVecEnv.reset\u001b[1;34m(self)\u001b[0m\n\u001b[0;32m     75\u001b[0m \u001b[38;5;28;01mfor\u001b[39;00m env_idx \u001b[38;5;129;01min\u001b[39;00m \u001b[38;5;28mrange\u001b[39m(\u001b[38;5;28mself\u001b[39m\u001b[38;5;241m.\u001b[39mnum_envs):\n\u001b[0;32m     76\u001b[0m     maybe_options \u001b[38;5;241m=\u001b[39m {\u001b[38;5;124m\"\u001b[39m\u001b[38;5;124moptions\u001b[39m\u001b[38;5;124m\"\u001b[39m: \u001b[38;5;28mself\u001b[39m\u001b[38;5;241m.\u001b[39m_options[env_idx]} \u001b[38;5;28;01mif\u001b[39;00m \u001b[38;5;28mself\u001b[39m\u001b[38;5;241m.\u001b[39m_options[env_idx] \u001b[38;5;28;01melse\u001b[39;00m {}\n\u001b[1;32m---> 77\u001b[0m     obs, \u001b[38;5;28mself\u001b[39m\u001b[38;5;241m.\u001b[39mreset_infos[env_idx] \u001b[38;5;241m=\u001b[39m \u001b[38;5;28;43mself\u001b[39;49m\u001b[38;5;241;43m.\u001b[39;49m\u001b[43menvs\u001b[49m\u001b[43m[\u001b[49m\u001b[43menv_idx\u001b[49m\u001b[43m]\u001b[49m\u001b[38;5;241;43m.\u001b[39;49m\u001b[43mreset\u001b[49m\u001b[43m(\u001b[49m\u001b[43mseed\u001b[49m\u001b[38;5;241;43m=\u001b[39;49m\u001b[38;5;28;43mself\u001b[39;49m\u001b[38;5;241;43m.\u001b[39;49m\u001b[43m_seeds\u001b[49m\u001b[43m[\u001b[49m\u001b[43menv_idx\u001b[49m\u001b[43m]\u001b[49m\u001b[43m,\u001b[49m\u001b[43m \u001b[49m\u001b[38;5;241;43m*\u001b[39;49m\u001b[38;5;241;43m*\u001b[39;49m\u001b[43mmaybe_options\u001b[49m\u001b[43m)\u001b[49m\n\u001b[0;32m     78\u001b[0m     \u001b[38;5;28mself\u001b[39m\u001b[38;5;241m.\u001b[39m_save_obs(env_idx, obs)\n\u001b[0;32m     79\u001b[0m \u001b[38;5;66;03m# Seeds and options are only used once\u001b[39;00m\n",
      "File \u001b[1;32mc:\\users\\ajogd\\onedrive\\desktop\\new folder (4)\\venv\\lib\\site-packages\\stable_baselines3\\common\\monitor.py:83\u001b[0m, in \u001b[0;36mMonitor.reset\u001b[1;34m(self, **kwargs)\u001b[0m\n\u001b[0;32m     81\u001b[0m         \u001b[38;5;28;01mraise\u001b[39;00m \u001b[38;5;167;01mValueError\u001b[39;00m(\u001b[38;5;124mf\u001b[39m\u001b[38;5;124m\"\u001b[39m\u001b[38;5;124mExpected you to pass keyword argument \u001b[39m\u001b[38;5;132;01m{\u001b[39;00mkey\u001b[38;5;132;01m}\u001b[39;00m\u001b[38;5;124m into reset\u001b[39m\u001b[38;5;124m\"\u001b[39m)\n\u001b[0;32m     82\u001b[0m     \u001b[38;5;28mself\u001b[39m\u001b[38;5;241m.\u001b[39mcurrent_reset_info[key] \u001b[38;5;241m=\u001b[39m value\n\u001b[1;32m---> 83\u001b[0m \u001b[38;5;28;01mreturn\u001b[39;00m \u001b[38;5;28;43mself\u001b[39;49m\u001b[38;5;241;43m.\u001b[39;49m\u001b[43menv\u001b[49m\u001b[38;5;241;43m.\u001b[39;49m\u001b[43mreset\u001b[49m\u001b[43m(\u001b[49m\u001b[38;5;241;43m*\u001b[39;49m\u001b[38;5;241;43m*\u001b[39;49m\u001b[43mkwargs\u001b[49m\u001b[43m)\u001b[49m\n",
      "Cell \u001b[1;32mIn[17], line 19\u001b[0m, in \u001b[0;36mStreetFighter.reset\u001b[1;34m(self, **kwargs)\u001b[0m\n\u001b[0;32m     18\u001b[0m \u001b[38;5;28;01mdef\u001b[39;00m\u001b[38;5;250m \u001b[39m\u001b[38;5;21mreset\u001b[39m(\u001b[38;5;28mself\u001b[39m, \u001b[38;5;241m*\u001b[39m\u001b[38;5;241m*\u001b[39mkwargs):\n\u001b[1;32m---> 19\u001b[0m     obs \u001b[38;5;241m=\u001b[39m \u001b[38;5;28;43mself\u001b[39;49m\u001b[38;5;241;43m.\u001b[39;49m\u001b[43mgame\u001b[49m\u001b[38;5;241;43m.\u001b[39;49m\u001b[43mreset\u001b[49m\u001b[43m(\u001b[49m\u001b[43m)\u001b[49m\n\u001b[0;32m     20\u001b[0m     obs \u001b[38;5;241m=\u001b[39m \u001b[38;5;28mself\u001b[39m\u001b[38;5;241m.\u001b[39mpreprocess(obs)\n\u001b[0;32m     21\u001b[0m     \u001b[38;5;28mself\u001b[39m\u001b[38;5;241m.\u001b[39mprevious_frame \u001b[38;5;241m=\u001b[39m obs\n",
      "File \u001b[1;32mc:\\users\\ajogd\\onedrive\\desktop\\new folder (4)\\venv\\lib\\site-packages\\retro\\retro_env.py:199\u001b[0m, in \u001b[0;36mRetroEnv.reset\u001b[1;34m(self)\u001b[0m\n\u001b[0;32m    197\u001b[0m \u001b[38;5;28;01mdef\u001b[39;00m\u001b[38;5;250m \u001b[39m\u001b[38;5;21mreset\u001b[39m(\u001b[38;5;28mself\u001b[39m):\n\u001b[0;32m    198\u001b[0m     \u001b[38;5;28;01mif\u001b[39;00m \u001b[38;5;28mself\u001b[39m\u001b[38;5;241m.\u001b[39minitial_state:\n\u001b[1;32m--> 199\u001b[0m         \u001b[38;5;28;43mself\u001b[39;49m\u001b[38;5;241;43m.\u001b[39;49m\u001b[43mem\u001b[49m\u001b[38;5;241m.\u001b[39mset_state(\u001b[38;5;28mself\u001b[39m\u001b[38;5;241m.\u001b[39minitial_state)\n\u001b[0;32m    200\u001b[0m     \u001b[38;5;28;01mfor\u001b[39;00m p \u001b[38;5;129;01min\u001b[39;00m \u001b[38;5;28mrange\u001b[39m(\u001b[38;5;28mself\u001b[39m\u001b[38;5;241m.\u001b[39mplayers):\n\u001b[0;32m    201\u001b[0m         \u001b[38;5;28mself\u001b[39m\u001b[38;5;241m.\u001b[39mem\u001b[38;5;241m.\u001b[39mset_button_mask(np\u001b[38;5;241m.\u001b[39mzeros([\u001b[38;5;28mself\u001b[39m\u001b[38;5;241m.\u001b[39mnum_buttons], np\u001b[38;5;241m.\u001b[39muint8), p)\n",
      "\u001b[1;31mAttributeError\u001b[0m: 'RetroEnv' object has no attribute 'em'"
     ]
    }
   ],
   "source": [
    "obs,_= env.reset()"
   ]
  },
  {
   "cell_type": "code",
   "execution_count": null,
   "id": "aa833bd3-47e9-4e75-bf83-758222feff9c",
   "metadata": {},
   "outputs": [
    {
     "name": "stdout",
     "output_type": "stream",
     "text": [
      "[500.]\n",
      "[400.]\n",
      "[500.]\n",
      "[1000.]\n",
      "[500.]\n",
      "[500.]\n"
     ]
    }
   ],
   "source": [
    "# Close existing environment\n",
    "env.close()\n",
    "\n",
    "# Recreate the environment\n",
    "env = StreetFighter()\n",
    "env = Monitor(env, LOG_DIR)\n",
    "env = DummyVecEnv([lambda: env])\n",
    "env = VecFrameStack(env, n_stack=4, channels_order='last')\n",
    "\n",
    "# Start fresh\n",
    "obs = env.reset()\n",
    "done = False\n",
    "for game in range(1):\n",
    "    while not done:\n",
    "        env.envs[0].render()\n",
    "\n",
    "        action, _ = model.predict(obs)  # <-- fixed line\n",
    "        obs, reward, done, info = env.step(action)\n",
    "        time.sleep(0.01)\n",
    "        if reward > 0:\n",
    "            print(reward)\n",
    "\n"
   ]
  },
  {
   "cell_type": "code",
   "execution_count": null,
   "id": "70fa600b-bea6-47f7-8b06-cb7f5d561daf",
   "metadata": {},
   "outputs": [],
   "source": []
  }
 ],
 "metadata": {
  "kernelspec": {
   "display_name": "Python 3 (ipykernel)",
   "language": "python",
   "name": "python3"
  },
  "language_info": {
   "codemirror_mode": {
    "name": "ipython",
    "version": 3
   },
   "file_extension": ".py",
   "mimetype": "text/x-python",
   "name": "python",
   "nbconvert_exporter": "python",
   "pygments_lexer": "ipython3",
   "version": "3.8.10"
  }
 },
 "nbformat": 4,
 "nbformat_minor": 5
}
